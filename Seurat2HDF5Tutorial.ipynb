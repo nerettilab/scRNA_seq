{
 "cells": [
  {
   "cell_type": "markdown",
   "metadata": {},
   "source": [
    "# Guide to Converting Seurat Objects to HDF5/loom Files"
   ]
  },
  {
   "cell_type": "markdown",
   "metadata": {},
   "source": [
    "### Example Filepaths Can Be Changed Here"
   ]
  },
  {
   "cell_type": "code",
   "execution_count": 1,
   "metadata": {},
   "outputs": [],
   "source": [
    "in_path <- \"/gpfs/data/nneretti/data/datasets/scRNA_seq/exampleSeuratBrainOld3and4.rds\"\n",
    "out_path <- \"/gpfs/data/nneretti/data/datasets/scRNA_seq/example1_out.loom\""
   ]
  },
  {
   "cell_type": "markdown",
   "metadata": {},
   "source": [
    "# Saving Using hdf5r #\n",
    "\n",
    "## Setting up the Environment ##\n",
    "\n",
    "We will be using [Seurat](https://satijalab.org/seurat/), and [hdf5r](https://cran.r-project.org/web/packages/hdf5r/vignettes/hdf5r.html)\n",
    "\n",
    "In order to use hdf5, make sure you have the hdf5 library loaded:\n",
    "\n",
    "        > module load hdf5/1.10.5 \n",
    "This repository has an environment.yml file which can be used to easily \n",
    "install all of the packages necessary to a new Anaconda environment as described in\n",
    "[the official Conda documentation](https://docs.conda.io/projects/conda/en/latest/user-guide/tasks/manage-environments.html#creating-an-environment-from-an-environment-yml-file):\n",
    "\n",
    "        > conda env create -f environment.yml\n",
    "\n",
    "This new environment should already be ready to run jupyter notebooks due to the *jupyterlab* and *r-irkernel* dependencies in the environment.yml file. However, if launching jupyter using\n",
    "\n",
    "        > /users/*username*/anaconda/seurat4-env/bin/jupyter-lab \n",
    "        \n",
    "Doesn't result in the new R kernel showing up as an option, you may have to additionally to register the new R kernel from within the new R prompt:\n",
    "\n",
    "        > /users/*username*/anaconda/seurat4-env/bin/R\n",
    "        > install.packages('IRkernel')\n",
    "        > IRkernel::installspec()\n",
    "\n",
    "Now any jupyter instance run from \n",
    "\n",
    "        > /users/*username*/anaconda/seurat4-env/bin/jupyter-lab \n",
    "        \n",
    "should have the proper R kernel available. \n",
    "\n",
    "To start, we load the Seurat and hdf5r libraries:"
   ]
  },
  {
   "cell_type": "code",
   "execution_count": 2,
   "metadata": {},
   "outputs": [
    {
     "name": "stderr",
     "output_type": "stream",
     "text": [
      "Attaching SeuratObject\n",
      "\n"
     ]
    }
   ],
   "source": [
    "library(Seurat)\n",
    "library(hdf5r)"
   ]
  },
  {
   "cell_type": "markdown",
   "metadata": {},
   "source": [
    "## Loading\n",
    "Then we load the Seurat object:"
   ]
  },
  {
   "cell_type": "code",
   "execution_count": 3,
   "metadata": {},
   "outputs": [
    {
     "data": {
      "text/plain": [
       "An object of class Seurat \n",
       "35838 features across 1234 samples within 3 assays \n",
       "Active assay: RNA (17594 features, 2000 variable features)\n",
       " 2 other assays present: SCT, integrated\n",
       " 2 dimensional reductions calculated: pca, umap"
      ]
     },
     "metadata": {},
     "output_type": "display_data"
    }
   ],
   "source": [
    "seurat_obj <- readRDS(in_path)\n",
    "DefaultAssay(object = seurat_obj) <- \"RNA\"\n",
    "seurat_obj"
   ]
  },
  {
   "cell_type": "markdown",
   "metadata": {},
   "source": [
    "## Saving\n",
    "### Creating connection to new hdf5 file"
   ]
  },
  {
   "cell_type": "code",
   "execution_count": 4,
   "metadata": {},
   "outputs": [
    {
     "data": {
      "text/plain": [
       "Class: H5File\n",
       "Filename: /gpfs/data/nneretti/data/datasets/scRNA_seq/example1_out.loom\n",
       "Access type: H5F_ACC_RDWR"
      ]
     },
     "metadata": {},
     "output_type": "display_data"
    }
   ],
   "source": [
    "file.h5 <- H5File$new(out_path, mode = \"w\")\n",
    "file.h5"
   ]
  },
  {
   "cell_type": "markdown",
   "metadata": {},
   "source": [
    "# Groups\n",
    "We will create groups as described in the [loom hdf5 specification](http://linnarssonlab.org/loompy/format/). \n",
    "All datasets except for the raw counts at \"/matrix\" will be contained within one of these groups. \n",
    "The specification explains what each group means, but the ones we are mostly concerned with are:\n",
    "1. \"layers\", which contains all matrices of size num_cells x num_genes,\n",
    "2. \"row_attrs\" which for us contains all metadata datasets describing individual cells,\n",
    "3. \"col_attrs\", which for us contains all metadata describing individual genes,\n",
    "\n",
    "We also added the group \"scaled\" which is not included in the loom specification as a place to store scaled matrices which have fewer genes - the number of genes is reduced to a cutoff of the top $n$ variable genes."
   ]
  },
  {
   "cell_type": "code",
   "execution_count": 5,
   "metadata": {},
   "outputs": [],
   "source": [
    "layers.grp <- file.h5$create_group(\"layers\")\n",
    "row_attrs.grp <- file.h5$create_group(\"row_attrs\")\n",
    "col_attrs.grp <- file.h5$create_group(\"col_attrs\")\n",
    "attrs.grp <- file.h5$create_group(\"attrs\")\n",
    "attrs.grp[[\"LOOM_SPEC_VERSION\"]] <- \"3.0.0\"\n",
    "col_graphs.grp <- file.h5$create_group(\"col_graphs\")\n",
    "row_graphs.grp <- file.h5$create_group(\"row_graphs\")\n",
    "scaled.grp <- file.h5$create_group(\"scaled\")"
   ]
  },
  {
   "cell_type": "markdown",
   "metadata": {},
   "source": [
    "## Raw Counts ##\n",
    "Raw RNA counts are stored in the object[[\"RNA\"]]@counts slot - the counts slot for the RNA assay. \n",
    "#### /matrix ####\n",
    "Every loom file should have a root level /matrix dataset in which we will put the raw counts."
   ]
  },
  {
   "cell_type": "code",
   "execution_count": 6,
   "metadata": {},
   "outputs": [
    {
     "data": {
      "text/html": [
       "<table class=\"dataframe\">\n",
       "<caption>A data.frame: 6 × 1234</caption>\n",
       "<thead>\n",
       "\t<tr><th></th><th scope=col>AAACCTGGTCCTCCAT-4</th><th scope=col>AAACGGGAGCTCCCAG-4</th><th scope=col>AAAGCAACAAGTTGTC-4</th><th scope=col>AAAGCAAGTCACACGC-4</th><th scope=col>AAAGCAAGTGTAATGA-4</th><th scope=col>AAAGCAATCCTCAACC-4</th><th scope=col>AAAGTAGTCGCCCTTA-4</th><th scope=col>AAATGCCGTATATCCG-4</th><th scope=col>AACCATGAGGTGATTA-4</th><th scope=col>AACCATGGTCTGGAGA-4</th><th scope=col>⋯</th><th scope=col>GGCAATTGTTCCGTCT-4</th><th scope=col>GGGTTGCGTTAGAACA-4</th><th scope=col>GGTGCGTAGCTAGGCA-4</th><th scope=col>GTACGTAAGCAAATCA-4</th><th scope=col>GTAGTCATCAACACCA-4</th><th scope=col>GTATCTTTCGTGGACC-4</th><th scope=col>TGGTTAGAGGCATGGT-4</th><th scope=col>TTATGCTTCTATCCTA-4</th><th scope=col>TTCTCAAGTACACCGC-4</th><th scope=col>TTTCCTCCACCAGGTC-4</th></tr>\n",
       "\t<tr><th></th><th scope=col>&lt;dbl&gt;</th><th scope=col>&lt;dbl&gt;</th><th scope=col>&lt;dbl&gt;</th><th scope=col>&lt;dbl&gt;</th><th scope=col>&lt;dbl&gt;</th><th scope=col>&lt;dbl&gt;</th><th scope=col>&lt;dbl&gt;</th><th scope=col>&lt;dbl&gt;</th><th scope=col>&lt;dbl&gt;</th><th scope=col>&lt;dbl&gt;</th><th scope=col>⋯</th><th scope=col>&lt;dbl&gt;</th><th scope=col>&lt;dbl&gt;</th><th scope=col>&lt;dbl&gt;</th><th scope=col>&lt;dbl&gt;</th><th scope=col>&lt;dbl&gt;</th><th scope=col>&lt;dbl&gt;</th><th scope=col>&lt;dbl&gt;</th><th scope=col>&lt;dbl&gt;</th><th scope=col>&lt;dbl&gt;</th><th scope=col>&lt;dbl&gt;</th></tr>\n",
       "</thead>\n",
       "<tbody>\n",
       "\t<tr><th scope=row>Xkr4</th><td>0</td><td>0</td><td>0</td><td>0</td><td>0</td><td>0</td><td>0</td><td>0</td><td>0</td><td>0</td><td>⋯</td><td>0</td><td>0</td><td>0</td><td>0</td><td>0</td><td>0</td><td>0</td><td>0</td><td>0</td><td>0</td></tr>\n",
       "\t<tr><th scope=row>Rp1</th><td>0</td><td>0</td><td>0</td><td>0</td><td>0</td><td>0</td><td>0</td><td>0</td><td>0</td><td>0</td><td>⋯</td><td>0</td><td>0</td><td>0</td><td>0</td><td>0</td><td>0</td><td>0</td><td>0</td><td>0</td><td>0</td></tr>\n",
       "\t<tr><th scope=row>Sox17</th><td>0</td><td>0</td><td>0</td><td>0</td><td>0</td><td>0</td><td>0</td><td>0</td><td>0</td><td>0</td><td>⋯</td><td>0</td><td>0</td><td>0</td><td>0</td><td>0</td><td>0</td><td>0</td><td>0</td><td>0</td><td>0</td></tr>\n",
       "\t<tr><th scope=row>Mrpl15</th><td>0</td><td>1</td><td>0</td><td>0</td><td>0</td><td>1</td><td>0</td><td>0</td><td>0</td><td>0</td><td>⋯</td><td>0</td><td>0</td><td>0</td><td>0</td><td>0</td><td>0</td><td>0</td><td>0</td><td>0</td><td>0</td></tr>\n",
       "\t<tr><th scope=row>Lypla1</th><td>0</td><td>0</td><td>0</td><td>0</td><td>0</td><td>1</td><td>0</td><td>0</td><td>0</td><td>0</td><td>⋯</td><td>0</td><td>0</td><td>0</td><td>0</td><td>1</td><td>0</td><td>0</td><td>0</td><td>0</td><td>0</td></tr>\n",
       "\t<tr><th scope=row>Gm37988</th><td>0</td><td>0</td><td>0</td><td>0</td><td>0</td><td>0</td><td>0</td><td>0</td><td>0</td><td>0</td><td>⋯</td><td>0</td><td>0</td><td>0</td><td>0</td><td>0</td><td>0</td><td>0</td><td>0</td><td>0</td><td>0</td></tr>\n",
       "</tbody>\n",
       "</table>\n"
      ],
      "text/latex": [
       "A data.frame: 6 × 1234\n",
       "\\begin{tabular}{r|lllllllllllllllllllll}\n",
       "  & AAACCTGGTCCTCCAT-4 & AAACGGGAGCTCCCAG-4 & AAAGCAACAAGTTGTC-4 & AAAGCAAGTCACACGC-4 & AAAGCAAGTGTAATGA-4 & AAAGCAATCCTCAACC-4 & AAAGTAGTCGCCCTTA-4 & AAATGCCGTATATCCG-4 & AACCATGAGGTGATTA-4 & AACCATGGTCTGGAGA-4 & ⋯ & GGCAATTGTTCCGTCT-4 & GGGTTGCGTTAGAACA-4 & GGTGCGTAGCTAGGCA-4 & GTACGTAAGCAAATCA-4 & GTAGTCATCAACACCA-4 & GTATCTTTCGTGGACC-4 & TGGTTAGAGGCATGGT-4 & TTATGCTTCTATCCTA-4 & TTCTCAAGTACACCGC-4 & TTTCCTCCACCAGGTC-4\\\\\n",
       "  & <dbl> & <dbl> & <dbl> & <dbl> & <dbl> & <dbl> & <dbl> & <dbl> & <dbl> & <dbl> & ⋯ & <dbl> & <dbl> & <dbl> & <dbl> & <dbl> & <dbl> & <dbl> & <dbl> & <dbl> & <dbl>\\\\\n",
       "\\hline\n",
       "\tXkr4 & 0 & 0 & 0 & 0 & 0 & 0 & 0 & 0 & 0 & 0 & ⋯ & 0 & 0 & 0 & 0 & 0 & 0 & 0 & 0 & 0 & 0\\\\\n",
       "\tRp1 & 0 & 0 & 0 & 0 & 0 & 0 & 0 & 0 & 0 & 0 & ⋯ & 0 & 0 & 0 & 0 & 0 & 0 & 0 & 0 & 0 & 0\\\\\n",
       "\tSox17 & 0 & 0 & 0 & 0 & 0 & 0 & 0 & 0 & 0 & 0 & ⋯ & 0 & 0 & 0 & 0 & 0 & 0 & 0 & 0 & 0 & 0\\\\\n",
       "\tMrpl15 & 0 & 1 & 0 & 0 & 0 & 1 & 0 & 0 & 0 & 0 & ⋯ & 0 & 0 & 0 & 0 & 0 & 0 & 0 & 0 & 0 & 0\\\\\n",
       "\tLypla1 & 0 & 0 & 0 & 0 & 0 & 1 & 0 & 0 & 0 & 0 & ⋯ & 0 & 0 & 0 & 0 & 1 & 0 & 0 & 0 & 0 & 0\\\\\n",
       "\tGm37988 & 0 & 0 & 0 & 0 & 0 & 0 & 0 & 0 & 0 & 0 & ⋯ & 0 & 0 & 0 & 0 & 0 & 0 & 0 & 0 & 0 & 0\\\\\n",
       "\\end{tabular}\n"
      ],
      "text/markdown": [
       "\n",
       "A data.frame: 6 × 1234\n",
       "\n",
       "| <!--/--> | AAACCTGGTCCTCCAT-4 &lt;dbl&gt; | AAACGGGAGCTCCCAG-4 &lt;dbl&gt; | AAAGCAACAAGTTGTC-4 &lt;dbl&gt; | AAAGCAAGTCACACGC-4 &lt;dbl&gt; | AAAGCAAGTGTAATGA-4 &lt;dbl&gt; | AAAGCAATCCTCAACC-4 &lt;dbl&gt; | AAAGTAGTCGCCCTTA-4 &lt;dbl&gt; | AAATGCCGTATATCCG-4 &lt;dbl&gt; | AACCATGAGGTGATTA-4 &lt;dbl&gt; | AACCATGGTCTGGAGA-4 &lt;dbl&gt; | ⋯ ⋯ | GGCAATTGTTCCGTCT-4 &lt;dbl&gt; | GGGTTGCGTTAGAACA-4 &lt;dbl&gt; | GGTGCGTAGCTAGGCA-4 &lt;dbl&gt; | GTACGTAAGCAAATCA-4 &lt;dbl&gt; | GTAGTCATCAACACCA-4 &lt;dbl&gt; | GTATCTTTCGTGGACC-4 &lt;dbl&gt; | TGGTTAGAGGCATGGT-4 &lt;dbl&gt; | TTATGCTTCTATCCTA-4 &lt;dbl&gt; | TTCTCAAGTACACCGC-4 &lt;dbl&gt; | TTTCCTCCACCAGGTC-4 &lt;dbl&gt; |\n",
       "|---|---|---|---|---|---|---|---|---|---|---|---|---|---|---|---|---|---|---|---|---|---|\n",
       "| Xkr4 | 0 | 0 | 0 | 0 | 0 | 0 | 0 | 0 | 0 | 0 | ⋯ | 0 | 0 | 0 | 0 | 0 | 0 | 0 | 0 | 0 | 0 |\n",
       "| Rp1 | 0 | 0 | 0 | 0 | 0 | 0 | 0 | 0 | 0 | 0 | ⋯ | 0 | 0 | 0 | 0 | 0 | 0 | 0 | 0 | 0 | 0 |\n",
       "| Sox17 | 0 | 0 | 0 | 0 | 0 | 0 | 0 | 0 | 0 | 0 | ⋯ | 0 | 0 | 0 | 0 | 0 | 0 | 0 | 0 | 0 | 0 |\n",
       "| Mrpl15 | 0 | 1 | 0 | 0 | 0 | 1 | 0 | 0 | 0 | 0 | ⋯ | 0 | 0 | 0 | 0 | 0 | 0 | 0 | 0 | 0 | 0 |\n",
       "| Lypla1 | 0 | 0 | 0 | 0 | 0 | 1 | 0 | 0 | 0 | 0 | ⋯ | 0 | 0 | 0 | 0 | 1 | 0 | 0 | 0 | 0 | 0 |\n",
       "| Gm37988 | 0 | 0 | 0 | 0 | 0 | 0 | 0 | 0 | 0 | 0 | ⋯ | 0 | 0 | 0 | 0 | 0 | 0 | 0 | 0 | 0 | 0 |\n",
       "\n"
      ],
      "text/plain": [
       "        AAACCTGGTCCTCCAT-4 AAACGGGAGCTCCCAG-4 AAAGCAACAAGTTGTC-4 AAAGCAAGTCACACGC-4 AAAGCAAGTGTAATGA-4 AAAGCAATCCTCAACC-4\n",
       "Xkr4    0                  0                  0                  0                  0                  0                 \n",
       "Rp1     0                  0                  0                  0                  0                  0                 \n",
       "Sox17   0                  0                  0                  0                  0                  0                 \n",
       "Mrpl15  0                  1                  0                  0                  0                  1                 \n",
       "Lypla1  0                  0                  0                  0                  0                  1                 \n",
       "Gm37988 0                  0                  0                  0                  0                  0                 \n",
       "        AAAGTAGTCGCCCTTA-4 AAATGCCGTATATCCG-4 AACCATGAGGTGATTA-4 AACCATGGTCTGGAGA-4 <U+22EF>   GGCAATTGTTCCGTCT-4\n",
       "Xkr4    0                  0                  0                  0                  <U+22EF> 0                 \n",
       "Rp1     0                  0                  0                  0                  <U+22EF> 0                 \n",
       "Sox17   0                  0                  0                  0                  <U+22EF> 0                 \n",
       "Mrpl15  0                  0                  0                  0                  <U+22EF> 0                 \n",
       "Lypla1  0                  0                  0                  0                  <U+22EF> 0                 \n",
       "Gm37988 0                  0                  0                  0                  <U+22EF> 0                 \n",
       "        GGGTTGCGTTAGAACA-4 GGTGCGTAGCTAGGCA-4 GTACGTAAGCAAATCA-4 GTAGTCATCAACACCA-4 GTATCTTTCGTGGACC-4 TGGTTAGAGGCATGGT-4\n",
       "Xkr4    0                  0                  0                  0                  0                  0                 \n",
       "Rp1     0                  0                  0                  0                  0                  0                 \n",
       "Sox17   0                  0                  0                  0                  0                  0                 \n",
       "Mrpl15  0                  0                  0                  0                  0                  0                 \n",
       "Lypla1  0                  0                  0                  1                  0                  0                 \n",
       "Gm37988 0                  0                  0                  0                  0                  0                 \n",
       "        TTATGCTTCTATCCTA-4 TTCTCAAGTACACCGC-4 TTTCCTCCACCAGGTC-4\n",
       "Xkr4    0                  0                  0                 \n",
       "Rp1     0                  0                  0                 \n",
       "Sox17   0                  0                  0                 \n",
       "Mrpl15  0                  0                  0                 \n",
       "Lypla1  0                  0                  0                 \n",
       "Gm37988 0                  0                  0                 "
      ]
     },
     "metadata": {},
     "output_type": "display_data"
    }
   ],
   "source": [
    "head(as.data.frame(seurat_obj[[\"RNA\"]]@counts))"
   ]
  },
  {
   "cell_type": "code",
   "execution_count": 7,
   "metadata": {},
   "outputs": [],
   "source": [
    "file.h5[[\"matrix\"]] <- (as.matrix(seurat_obj[[\"RNA\"]]@counts))"
   ]
  },
  {
   "cell_type": "code",
   "execution_count": 8,
   "metadata": {},
   "outputs": [
    {
     "data": {
      "text/plain": [
       "Class: H5D\n",
       "Dataset: /matrix\n",
       "Filename: /gpfs/data/nneretti/data/datasets/scRNA_seq/example1_out.loom\n",
       "Access type: H5F_ACC_RDWR\n",
       "Datatype: H5T_IEEE_F64LE\n",
       "Space: Type=Simple     Dims=1234 x 17594     Maxdims=Inf x Inf\n",
       "Chunk: 32 x 32"
      ]
     },
     "metadata": {},
     "output_type": "display_data"
    }
   ],
   "source": [
    "file.h5[[\"matrix\"]]"
   ]
  },
  {
   "cell_type": "markdown",
   "metadata": {},
   "source": [
    "## Column (Gene) Metadata\n",
    "Now is a good time to add the Column (gene) metadata - right now we only have the gene names,\n",
    "but you could include other information about the genes such as accession numbers,\n",
    "or whether a gene was included in a variable features search."
   ]
  },
  {
   "cell_type": "code",
   "execution_count": 9,
   "metadata": {},
   "outputs": [
    {
     "data": {
      "text/plain": [
       "Class: H5D\n",
       "Dataset: /col_attrs/Name\n",
       "Filename: /gpfs/data/nneretti/data/datasets/scRNA_seq/example1_out.loom\n",
       "Access type: H5F_ACC_RDWR\n",
       "Datatype: H5T_STRING {\n",
       "      STRSIZE H5T_VARIABLE;\n",
       "      STRPAD H5T_STR_NULLTERM;\n",
       "      CSET H5T_CSET_ASCII;\n",
       "      CTYPE H5T_C_S1;\n",
       "   }\n",
       "Space: Type=Simple     Dims=17594     Maxdims=Inf\n",
       "Chunk: 1024"
      ]
     },
     "metadata": {},
     "output_type": "display_data"
    }
   ],
   "source": [
    "col_attrs.grp[[\"Name\"]] <- row.names(seurat_obj[[\"RNA\"]]@counts)\n",
    "col_attrs.grp[[\"Name\"]]"
   ]
  },
  {
   "cell_type": "markdown",
   "metadata": {},
   "source": [
    "## Row (Cell) Metadata\n",
    "Next we will add the cell level (here row level) metadata; \n",
    "this is stored in the meta.data slot of the Seurat object."
   ]
  },
  {
   "cell_type": "code",
   "execution_count": 10,
   "metadata": {},
   "outputs": [
    {
     "data": {
      "text/html": [
       "<table class=\"dataframe\">\n",
       "<caption>A data.frame: 6 × 14</caption>\n",
       "<thead>\n",
       "\t<tr><th></th><th scope=col>orig.ident</th><th scope=col>percent.mito</th><th scope=col>MID</th><th scope=col>res.1</th><th scope=col>res.0.9</th><th scope=col>res.0.8</th><th scope=col>res.1.2</th><th scope=col>nCount_RNA</th><th scope=col>nFeature_RNA</th><th scope=col>old.ident</th><th scope=col>percent.ribo</th><th scope=col>percent.mt</th><th scope=col>nCount_SCT</th><th scope=col>nFeature_SCT</th></tr>\n",
       "\t<tr><th></th><th scope=col>&lt;chr&gt;</th><th scope=col>&lt;dbl&gt;</th><th scope=col>&lt;chr&gt;</th><th scope=col>&lt;chr&gt;</th><th scope=col>&lt;chr&gt;</th><th scope=col>&lt;chr&gt;</th><th scope=col>&lt;chr&gt;</th><th scope=col>&lt;dbl&gt;</th><th scope=col>&lt;int&gt;</th><th scope=col>&lt;chr&gt;</th><th scope=col>&lt;dbl&gt;</th><th scope=col>&lt;dbl&gt;</th><th scope=col>&lt;dbl&gt;</th><th scope=col>&lt;int&gt;</th></tr>\n",
       "</thead>\n",
       "<tbody>\n",
       "\t<tr><th scope=row>AAACCTGGTCCTCCAT-4</th><td>24 months</td><td>0.03018035</td><td>Old Mice 3 and 4</td><td>16</td><td>10</td><td>11</td><td>16</td><td>2717</td><td>1186</td><td>Microglia</td><td>26.831064</td><td>3.018035</td><td>3393</td><td>1164</td></tr>\n",
       "\t<tr><th scope=row>AAACGGGAGCTCCCAG-4</th><td>24 months</td><td>0.02638738</td><td>Old Mice 3 and 4</td><td>3 </td><td>3 </td><td>3 </td><td>3 </td><td>7352</td><td>1931</td><td>Microglia</td><td>17.913493</td><td>2.638738</td><td>4271</td><td>1760</td></tr>\n",
       "\t<tr><th scope=row>AAAGCAACAAGTTGTC-4</th><td>24 months</td><td>0.03122731</td><td>Old Mice 3 and 4</td><td>4 </td><td>4 </td><td>4 </td><td>4 </td><td>1377</td><td> 706</td><td>Microglia</td><td>12.563544</td><td>3.122731</td><td>3348</td><td> 813</td></tr>\n",
       "\t<tr><th scope=row>AAAGCAAGTCACACGC-4</th><td>24 months</td><td>0.02841596</td><td>Old Mice 3 and 4</td><td>2 </td><td>2 </td><td>2 </td><td>2 </td><td>3308</td><td>1357</td><td>Microglia</td><td> 8.434099</td><td>2.841596</td><td>3603</td><td>1355</td></tr>\n",
       "\t<tr><th scope=row>AAAGCAAGTGTAATGA-4</th><td>24 months</td><td>0.02370773</td><td>Old Mice 3 and 4</td><td>3 </td><td>3 </td><td>3 </td><td>3 </td><td>7719</td><td>1819</td><td>Microglia</td><td>22.438140</td><td>2.370773</td><td>4151</td><td>1580</td></tr>\n",
       "\t<tr><th scope=row>AAAGCAATCCTCAACC-4</th><td>24 months</td><td>0.01813785</td><td>Old Mice 3 and 4</td><td>4 </td><td>4 </td><td>4 </td><td>4 </td><td>3308</td><td>1324</td><td>Microglia</td><td>19.891173</td><td>1.813785</td><td>3615</td><td>1324</td></tr>\n",
       "</tbody>\n",
       "</table>\n"
      ],
      "text/latex": [
       "A data.frame: 6 × 14\n",
       "\\begin{tabular}{r|llllllllllllll}\n",
       "  & orig.ident & percent.mito & MID & res.1 & res.0.9 & res.0.8 & res.1.2 & nCount\\_RNA & nFeature\\_RNA & old.ident & percent.ribo & percent.mt & nCount\\_SCT & nFeature\\_SCT\\\\\n",
       "  & <chr> & <dbl> & <chr> & <chr> & <chr> & <chr> & <chr> & <dbl> & <int> & <chr> & <dbl> & <dbl> & <dbl> & <int>\\\\\n",
       "\\hline\n",
       "\tAAACCTGGTCCTCCAT-4 & 24 months & 0.03018035 & Old Mice 3 and 4 & 16 & 10 & 11 & 16 & 2717 & 1186 & Microglia & 26.831064 & 3.018035 & 3393 & 1164\\\\\n",
       "\tAAACGGGAGCTCCCAG-4 & 24 months & 0.02638738 & Old Mice 3 and 4 & 3  & 3  & 3  & 3  & 7352 & 1931 & Microglia & 17.913493 & 2.638738 & 4271 & 1760\\\\\n",
       "\tAAAGCAACAAGTTGTC-4 & 24 months & 0.03122731 & Old Mice 3 and 4 & 4  & 4  & 4  & 4  & 1377 &  706 & Microglia & 12.563544 & 3.122731 & 3348 &  813\\\\\n",
       "\tAAAGCAAGTCACACGC-4 & 24 months & 0.02841596 & Old Mice 3 and 4 & 2  & 2  & 2  & 2  & 3308 & 1357 & Microglia &  8.434099 & 2.841596 & 3603 & 1355\\\\\n",
       "\tAAAGCAAGTGTAATGA-4 & 24 months & 0.02370773 & Old Mice 3 and 4 & 3  & 3  & 3  & 3  & 7719 & 1819 & Microglia & 22.438140 & 2.370773 & 4151 & 1580\\\\\n",
       "\tAAAGCAATCCTCAACC-4 & 24 months & 0.01813785 & Old Mice 3 and 4 & 4  & 4  & 4  & 4  & 3308 & 1324 & Microglia & 19.891173 & 1.813785 & 3615 & 1324\\\\\n",
       "\\end{tabular}\n"
      ],
      "text/markdown": [
       "\n",
       "A data.frame: 6 × 14\n",
       "\n",
       "| <!--/--> | orig.ident &lt;chr&gt; | percent.mito &lt;dbl&gt; | MID &lt;chr&gt; | res.1 &lt;chr&gt; | res.0.9 &lt;chr&gt; | res.0.8 &lt;chr&gt; | res.1.2 &lt;chr&gt; | nCount_RNA &lt;dbl&gt; | nFeature_RNA &lt;int&gt; | old.ident &lt;chr&gt; | percent.ribo &lt;dbl&gt; | percent.mt &lt;dbl&gt; | nCount_SCT &lt;dbl&gt; | nFeature_SCT &lt;int&gt; |\n",
       "|---|---|---|---|---|---|---|---|---|---|---|---|---|---|---|\n",
       "| AAACCTGGTCCTCCAT-4 | 24 months | 0.03018035 | Old Mice 3 and 4 | 16 | 10 | 11 | 16 | 2717 | 1186 | Microglia | 26.831064 | 3.018035 | 3393 | 1164 |\n",
       "| AAACGGGAGCTCCCAG-4 | 24 months | 0.02638738 | Old Mice 3 and 4 | 3  | 3  | 3  | 3  | 7352 | 1931 | Microglia | 17.913493 | 2.638738 | 4271 | 1760 |\n",
       "| AAAGCAACAAGTTGTC-4 | 24 months | 0.03122731 | Old Mice 3 and 4 | 4  | 4  | 4  | 4  | 1377 |  706 | Microglia | 12.563544 | 3.122731 | 3348 |  813 |\n",
       "| AAAGCAAGTCACACGC-4 | 24 months | 0.02841596 | Old Mice 3 and 4 | 2  | 2  | 2  | 2  | 3308 | 1357 | Microglia |  8.434099 | 2.841596 | 3603 | 1355 |\n",
       "| AAAGCAAGTGTAATGA-4 | 24 months | 0.02370773 | Old Mice 3 and 4 | 3  | 3  | 3  | 3  | 7719 | 1819 | Microglia | 22.438140 | 2.370773 | 4151 | 1580 |\n",
       "| AAAGCAATCCTCAACC-4 | 24 months | 0.01813785 | Old Mice 3 and 4 | 4  | 4  | 4  | 4  | 3308 | 1324 | Microglia | 19.891173 | 1.813785 | 3615 | 1324 |\n",
       "\n"
      ],
      "text/plain": [
       "                   orig.ident percent.mito MID              res.1 res.0.9 res.0.8 res.1.2 nCount_RNA nFeature_RNA old.ident\n",
       "AAACCTGGTCCTCCAT-4 24 months  0.03018035   Old Mice 3 and 4 16    10      11      16      2717       1186         Microglia\n",
       "AAACGGGAGCTCCCAG-4 24 months  0.02638738   Old Mice 3 and 4 3     3       3       3       7352       1931         Microglia\n",
       "AAAGCAACAAGTTGTC-4 24 months  0.03122731   Old Mice 3 and 4 4     4       4       4       1377        706         Microglia\n",
       "AAAGCAAGTCACACGC-4 24 months  0.02841596   Old Mice 3 and 4 2     2       2       2       3308       1357         Microglia\n",
       "AAAGCAAGTGTAATGA-4 24 months  0.02370773   Old Mice 3 and 4 3     3       3       3       7719       1819         Microglia\n",
       "AAAGCAATCCTCAACC-4 24 months  0.01813785   Old Mice 3 and 4 4     4       4       4       3308       1324         Microglia\n",
       "                   percent.ribo percent.mt nCount_SCT nFeature_SCT\n",
       "AAACCTGGTCCTCCAT-4 26.831064    3.018035   3393       1164        \n",
       "AAACGGGAGCTCCCAG-4 17.913493    2.638738   4271       1760        \n",
       "AAAGCAACAAGTTGTC-4 12.563544    3.122731   3348        813        \n",
       "AAAGCAAGTCACACGC-4  8.434099    2.841596   3603       1355        \n",
       "AAAGCAAGTGTAATGA-4 22.438140    2.370773   4151       1580        \n",
       "AAAGCAATCCTCAACC-4 19.891173    1.813785   3615       1324        "
      ]
     },
     "metadata": {},
     "output_type": "display_data"
    }
   ],
   "source": [
    "head(seurat_obj@meta.data)"
   ]
  },
  {
   "cell_type": "code",
   "execution_count": 11,
   "metadata": {},
   "outputs": [],
   "source": [
    "row_attrs.grp[[\"Barcode\"]] <- row.names(seurat_obj@meta.data)\n"
   ]
  },
  {
   "cell_type": "code",
   "execution_count": 12,
   "metadata": {},
   "outputs": [
    {
     "data": {
      "text/plain": [
       "Class: H5Group\n",
       "Filename: /gpfs/data/nneretti/data/datasets/scRNA_seq/example1_out.loom\n",
       "Group: /row_attrs\n",
       "Listing:\n",
       "         name    obj_type dataset.dims dataset.type_class\n",
       "      Barcode H5I_DATASET         1234         H5T_STRING\n",
       "          MID H5I_DATASET         1234         H5T_STRING\n",
       "   nCount_RNA H5I_DATASET         1234          H5T_FLOAT\n",
       "   nCount_SCT H5I_DATASET         1234          H5T_FLOAT\n",
       " nFeature_RNA H5I_DATASET         1234        H5T_INTEGER\n",
       " nFeature_SCT H5I_DATASET         1234        H5T_INTEGER\n",
       "    old.ident H5I_DATASET         1234         H5T_STRING\n",
       "   orig.ident H5I_DATASET         1234         H5T_STRING\n",
       " percent.mito H5I_DATASET         1234          H5T_FLOAT\n",
       "   percent.mt H5I_DATASET         1234          H5T_FLOAT\n",
       "< Printed 10, out of 15>"
      ]
     },
     "metadata": {},
     "output_type": "display_data"
    }
   ],
   "source": [
    "for (i in names(seurat_obj@meta.data)){\n",
    "    row_attrs.grp[[i]] <- seurat_obj@meta.data[[i]]\n",
    "}\n",
    "row_attrs.grp"
   ]
  },
  {
   "cell_type": "markdown",
   "metadata": {},
   "source": [
    "## Normalized Data ##\n",
    "Normalized counts are stored in the object[[\"RNA\"]]@data slot - the data slot for the RNA assay. \n",
    "\n",
    "We will put this as the \"normalized\" dataset in the \"layers\" group."
   ]
  },
  {
   "cell_type": "code",
   "execution_count": 13,
   "metadata": {},
   "outputs": [
    {
     "data": {
      "text/html": [
       "<table class=\"dataframe\">\n",
       "<caption>A data.frame: 6 × 1234</caption>\n",
       "<thead>\n",
       "\t<tr><th></th><th scope=col>AAACCTGGTCCTCCAT-4</th><th scope=col>AAACGGGAGCTCCCAG-4</th><th scope=col>AAAGCAACAAGTTGTC-4</th><th scope=col>AAAGCAAGTCACACGC-4</th><th scope=col>AAAGCAAGTGTAATGA-4</th><th scope=col>AAAGCAATCCTCAACC-4</th><th scope=col>AAAGTAGTCGCCCTTA-4</th><th scope=col>AAATGCCGTATATCCG-4</th><th scope=col>AACCATGAGGTGATTA-4</th><th scope=col>AACCATGGTCTGGAGA-4</th><th scope=col>⋯</th><th scope=col>GGCAATTGTTCCGTCT-4</th><th scope=col>GGGTTGCGTTAGAACA-4</th><th scope=col>GGTGCGTAGCTAGGCA-4</th><th scope=col>GTACGTAAGCAAATCA-4</th><th scope=col>GTAGTCATCAACACCA-4</th><th scope=col>GTATCTTTCGTGGACC-4</th><th scope=col>TGGTTAGAGGCATGGT-4</th><th scope=col>TTATGCTTCTATCCTA-4</th><th scope=col>TTCTCAAGTACACCGC-4</th><th scope=col>TTTCCTCCACCAGGTC-4</th></tr>\n",
       "\t<tr><th></th><th scope=col>&lt;dbl&gt;</th><th scope=col>&lt;dbl&gt;</th><th scope=col>&lt;dbl&gt;</th><th scope=col>&lt;dbl&gt;</th><th scope=col>&lt;dbl&gt;</th><th scope=col>&lt;dbl&gt;</th><th scope=col>&lt;dbl&gt;</th><th scope=col>&lt;dbl&gt;</th><th scope=col>&lt;dbl&gt;</th><th scope=col>&lt;dbl&gt;</th><th scope=col>⋯</th><th scope=col>&lt;dbl&gt;</th><th scope=col>&lt;dbl&gt;</th><th scope=col>&lt;dbl&gt;</th><th scope=col>&lt;dbl&gt;</th><th scope=col>&lt;dbl&gt;</th><th scope=col>&lt;dbl&gt;</th><th scope=col>&lt;dbl&gt;</th><th scope=col>&lt;dbl&gt;</th><th scope=col>&lt;dbl&gt;</th><th scope=col>&lt;dbl&gt;</th></tr>\n",
       "</thead>\n",
       "<tbody>\n",
       "\t<tr><th scope=row>Xkr4</th><td>0</td><td>0.0000000</td><td>0</td><td>0</td><td>0</td><td>0.000000</td><td>0</td><td>0</td><td>0</td><td>0</td><td>⋯</td><td>0</td><td>0</td><td>0</td><td>0</td><td>0.000000</td><td>0</td><td>0</td><td>0</td><td>0</td><td>0</td></tr>\n",
       "\t<tr><th scope=row>Rp1</th><td>0</td><td>0.0000000</td><td>0</td><td>0</td><td>0</td><td>0.000000</td><td>0</td><td>0</td><td>0</td><td>0</td><td>⋯</td><td>0</td><td>0</td><td>0</td><td>0</td><td>0.000000</td><td>0</td><td>0</td><td>0</td><td>0</td><td>0</td></tr>\n",
       "\t<tr><th scope=row>Sox17</th><td>0</td><td>0.0000000</td><td>0</td><td>0</td><td>0</td><td>0.000000</td><td>0</td><td>0</td><td>0</td><td>0</td><td>⋯</td><td>0</td><td>0</td><td>0</td><td>0</td><td>0.000000</td><td>0</td><td>0</td><td>0</td><td>0</td><td>0</td></tr>\n",
       "\t<tr><th scope=row>Mrpl15</th><td>0</td><td>0.8587354</td><td>0</td><td>0</td><td>0</td><td>1.392022</td><td>0</td><td>0</td><td>0</td><td>0</td><td>⋯</td><td>0</td><td>0</td><td>0</td><td>0</td><td>0.000000</td><td>0</td><td>0</td><td>0</td><td>0</td><td>0</td></tr>\n",
       "\t<tr><th scope=row>Lypla1</th><td>0</td><td>0.0000000</td><td>0</td><td>0</td><td>0</td><td>1.392022</td><td>0</td><td>0</td><td>0</td><td>0</td><td>⋯</td><td>0</td><td>0</td><td>0</td><td>0</td><td>0.556717</td><td>0</td><td>0</td><td>0</td><td>0</td><td>0</td></tr>\n",
       "\t<tr><th scope=row>Gm37988</th><td>0</td><td>0.0000000</td><td>0</td><td>0</td><td>0</td><td>0.000000</td><td>0</td><td>0</td><td>0</td><td>0</td><td>⋯</td><td>0</td><td>0</td><td>0</td><td>0</td><td>0.000000</td><td>0</td><td>0</td><td>0</td><td>0</td><td>0</td></tr>\n",
       "</tbody>\n",
       "</table>\n"
      ],
      "text/latex": [
       "A data.frame: 6 × 1234\n",
       "\\begin{tabular}{r|lllllllllllllllllllll}\n",
       "  & AAACCTGGTCCTCCAT-4 & AAACGGGAGCTCCCAG-4 & AAAGCAACAAGTTGTC-4 & AAAGCAAGTCACACGC-4 & AAAGCAAGTGTAATGA-4 & AAAGCAATCCTCAACC-4 & AAAGTAGTCGCCCTTA-4 & AAATGCCGTATATCCG-4 & AACCATGAGGTGATTA-4 & AACCATGGTCTGGAGA-4 & ⋯ & GGCAATTGTTCCGTCT-4 & GGGTTGCGTTAGAACA-4 & GGTGCGTAGCTAGGCA-4 & GTACGTAAGCAAATCA-4 & GTAGTCATCAACACCA-4 & GTATCTTTCGTGGACC-4 & TGGTTAGAGGCATGGT-4 & TTATGCTTCTATCCTA-4 & TTCTCAAGTACACCGC-4 & TTTCCTCCACCAGGTC-4\\\\\n",
       "  & <dbl> & <dbl> & <dbl> & <dbl> & <dbl> & <dbl> & <dbl> & <dbl> & <dbl> & <dbl> & ⋯ & <dbl> & <dbl> & <dbl> & <dbl> & <dbl> & <dbl> & <dbl> & <dbl> & <dbl> & <dbl>\\\\\n",
       "\\hline\n",
       "\tXkr4 & 0 & 0.0000000 & 0 & 0 & 0 & 0.000000 & 0 & 0 & 0 & 0 & ⋯ & 0 & 0 & 0 & 0 & 0.000000 & 0 & 0 & 0 & 0 & 0\\\\\n",
       "\tRp1 & 0 & 0.0000000 & 0 & 0 & 0 & 0.000000 & 0 & 0 & 0 & 0 & ⋯ & 0 & 0 & 0 & 0 & 0.000000 & 0 & 0 & 0 & 0 & 0\\\\\n",
       "\tSox17 & 0 & 0.0000000 & 0 & 0 & 0 & 0.000000 & 0 & 0 & 0 & 0 & ⋯ & 0 & 0 & 0 & 0 & 0.000000 & 0 & 0 & 0 & 0 & 0\\\\\n",
       "\tMrpl15 & 0 & 0.8587354 & 0 & 0 & 0 & 1.392022 & 0 & 0 & 0 & 0 & ⋯ & 0 & 0 & 0 & 0 & 0.000000 & 0 & 0 & 0 & 0 & 0\\\\\n",
       "\tLypla1 & 0 & 0.0000000 & 0 & 0 & 0 & 1.392022 & 0 & 0 & 0 & 0 & ⋯ & 0 & 0 & 0 & 0 & 0.556717 & 0 & 0 & 0 & 0 & 0\\\\\n",
       "\tGm37988 & 0 & 0.0000000 & 0 & 0 & 0 & 0.000000 & 0 & 0 & 0 & 0 & ⋯ & 0 & 0 & 0 & 0 & 0.000000 & 0 & 0 & 0 & 0 & 0\\\\\n",
       "\\end{tabular}\n"
      ],
      "text/markdown": [
       "\n",
       "A data.frame: 6 × 1234\n",
       "\n",
       "| <!--/--> | AAACCTGGTCCTCCAT-4 &lt;dbl&gt; | AAACGGGAGCTCCCAG-4 &lt;dbl&gt; | AAAGCAACAAGTTGTC-4 &lt;dbl&gt; | AAAGCAAGTCACACGC-4 &lt;dbl&gt; | AAAGCAAGTGTAATGA-4 &lt;dbl&gt; | AAAGCAATCCTCAACC-4 &lt;dbl&gt; | AAAGTAGTCGCCCTTA-4 &lt;dbl&gt; | AAATGCCGTATATCCG-4 &lt;dbl&gt; | AACCATGAGGTGATTA-4 &lt;dbl&gt; | AACCATGGTCTGGAGA-4 &lt;dbl&gt; | ⋯ ⋯ | GGCAATTGTTCCGTCT-4 &lt;dbl&gt; | GGGTTGCGTTAGAACA-4 &lt;dbl&gt; | GGTGCGTAGCTAGGCA-4 &lt;dbl&gt; | GTACGTAAGCAAATCA-4 &lt;dbl&gt; | GTAGTCATCAACACCA-4 &lt;dbl&gt; | GTATCTTTCGTGGACC-4 &lt;dbl&gt; | TGGTTAGAGGCATGGT-4 &lt;dbl&gt; | TTATGCTTCTATCCTA-4 &lt;dbl&gt; | TTCTCAAGTACACCGC-4 &lt;dbl&gt; | TTTCCTCCACCAGGTC-4 &lt;dbl&gt; |\n",
       "|---|---|---|---|---|---|---|---|---|---|---|---|---|---|---|---|---|---|---|---|---|---|\n",
       "| Xkr4 | 0 | 0.0000000 | 0 | 0 | 0 | 0.000000 | 0 | 0 | 0 | 0 | ⋯ | 0 | 0 | 0 | 0 | 0.000000 | 0 | 0 | 0 | 0 | 0 |\n",
       "| Rp1 | 0 | 0.0000000 | 0 | 0 | 0 | 0.000000 | 0 | 0 | 0 | 0 | ⋯ | 0 | 0 | 0 | 0 | 0.000000 | 0 | 0 | 0 | 0 | 0 |\n",
       "| Sox17 | 0 | 0.0000000 | 0 | 0 | 0 | 0.000000 | 0 | 0 | 0 | 0 | ⋯ | 0 | 0 | 0 | 0 | 0.000000 | 0 | 0 | 0 | 0 | 0 |\n",
       "| Mrpl15 | 0 | 0.8587354 | 0 | 0 | 0 | 1.392022 | 0 | 0 | 0 | 0 | ⋯ | 0 | 0 | 0 | 0 | 0.000000 | 0 | 0 | 0 | 0 | 0 |\n",
       "| Lypla1 | 0 | 0.0000000 | 0 | 0 | 0 | 1.392022 | 0 | 0 | 0 | 0 | ⋯ | 0 | 0 | 0 | 0 | 0.556717 | 0 | 0 | 0 | 0 | 0 |\n",
       "| Gm37988 | 0 | 0.0000000 | 0 | 0 | 0 | 0.000000 | 0 | 0 | 0 | 0 | ⋯ | 0 | 0 | 0 | 0 | 0.000000 | 0 | 0 | 0 | 0 | 0 |\n",
       "\n"
      ],
      "text/plain": [
       "        AAACCTGGTCCTCCAT-4 AAACGGGAGCTCCCAG-4 AAAGCAACAAGTTGTC-4 AAAGCAAGTCACACGC-4 AAAGCAAGTGTAATGA-4 AAAGCAATCCTCAACC-4\n",
       "Xkr4    0                  0.0000000          0                  0                  0                  0.000000          \n",
       "Rp1     0                  0.0000000          0                  0                  0                  0.000000          \n",
       "Sox17   0                  0.0000000          0                  0                  0                  0.000000          \n",
       "Mrpl15  0                  0.8587354          0                  0                  0                  1.392022          \n",
       "Lypla1  0                  0.0000000          0                  0                  0                  1.392022          \n",
       "Gm37988 0                  0.0000000          0                  0                  0                  0.000000          \n",
       "        AAAGTAGTCGCCCTTA-4 AAATGCCGTATATCCG-4 AACCATGAGGTGATTA-4 AACCATGGTCTGGAGA-4 <U+22EF>   GGCAATTGTTCCGTCT-4\n",
       "Xkr4    0                  0                  0                  0                  <U+22EF> 0                 \n",
       "Rp1     0                  0                  0                  0                  <U+22EF> 0                 \n",
       "Sox17   0                  0                  0                  0                  <U+22EF> 0                 \n",
       "Mrpl15  0                  0                  0                  0                  <U+22EF> 0                 \n",
       "Lypla1  0                  0                  0                  0                  <U+22EF> 0                 \n",
       "Gm37988 0                  0                  0                  0                  <U+22EF> 0                 \n",
       "        GGGTTGCGTTAGAACA-4 GGTGCGTAGCTAGGCA-4 GTACGTAAGCAAATCA-4 GTAGTCATCAACACCA-4 GTATCTTTCGTGGACC-4 TGGTTAGAGGCATGGT-4\n",
       "Xkr4    0                  0                  0                  0.000000           0                  0                 \n",
       "Rp1     0                  0                  0                  0.000000           0                  0                 \n",
       "Sox17   0                  0                  0                  0.000000           0                  0                 \n",
       "Mrpl15  0                  0                  0                  0.000000           0                  0                 \n",
       "Lypla1  0                  0                  0                  0.556717           0                  0                 \n",
       "Gm37988 0                  0                  0                  0.000000           0                  0                 \n",
       "        TTATGCTTCTATCCTA-4 TTCTCAAGTACACCGC-4 TTTCCTCCACCAGGTC-4\n",
       "Xkr4    0                  0                  0                 \n",
       "Rp1     0                  0                  0                 \n",
       "Sox17   0                  0                  0                 \n",
       "Mrpl15  0                  0                  0                 \n",
       "Lypla1  0                  0                  0                 \n",
       "Gm37988 0                  0                  0                 "
      ]
     },
     "metadata": {},
     "output_type": "display_data"
    }
   ],
   "source": [
    "head(as.data.frame(seurat_obj[[\"RNA\"]]@data))"
   ]
  },
  {
   "cell_type": "code",
   "execution_count": 14,
   "metadata": {},
   "outputs": [
    {
     "data": {
      "text/plain": [
       "Class: H5D\n",
       "Dataset: /layers/normalized\n",
       "Filename: /gpfs/data/nneretti/data/datasets/scRNA_seq/example1_out.loom\n",
       "Access type: H5F_ACC_RDWR\n",
       "Datatype: H5T_IEEE_F64LE\n",
       "Space: Type=Simple     Dims=1234 x 17594     Maxdims=Inf x Inf\n",
       "Chunk: 32 x 32"
      ]
     },
     "metadata": {},
     "output_type": "display_data"
    }
   ],
   "source": [
    "layers.grp[[\"normalized\"]] <- (as.matrix(seurat_obj[[\"RNA\"]]@data))\n",
    "layers.grp[[\"normalized\"]]"
   ]
  },
  {
   "cell_type": "markdown",
   "metadata": {},
   "source": [
    "## Scaled + Normalized Data ##\n",
    "Scaled and Normalized counts are stored in the object[[\"RNA\"]]@scale.data slot - the scale.data slot for the RNA assay. \n",
    "We will store these in the \"matrix\" dataset of the \"scaled\" group,\n",
    "and store the variable gene names in the \"vargenes\" dataset of the \"scaled\" group. "
   ]
  },
  {
   "cell_type": "code",
   "execution_count": 15,
   "metadata": {},
   "outputs": [
    {
     "data": {
      "text/html": [
       "<table class=\"dataframe\">\n",
       "<caption>A data.frame: 6 × 1234</caption>\n",
       "<thead>\n",
       "\t<tr><th></th><th scope=col>AAACCTGGTCCTCCAT-4</th><th scope=col>AAACGGGAGCTCCCAG-4</th><th scope=col>AAAGCAACAAGTTGTC-4</th><th scope=col>AAAGCAAGTCACACGC-4</th><th scope=col>AAAGCAAGTGTAATGA-4</th><th scope=col>AAAGCAATCCTCAACC-4</th><th scope=col>AAAGTAGTCGCCCTTA-4</th><th scope=col>AAATGCCGTATATCCG-4</th><th scope=col>AACCATGAGGTGATTA-4</th><th scope=col>AACCATGGTCTGGAGA-4</th><th scope=col>⋯</th><th scope=col>GGCAATTGTTCCGTCT-4</th><th scope=col>GGGTTGCGTTAGAACA-4</th><th scope=col>GGTGCGTAGCTAGGCA-4</th><th scope=col>GTACGTAAGCAAATCA-4</th><th scope=col>GTAGTCATCAACACCA-4</th><th scope=col>GTATCTTTCGTGGACC-4</th><th scope=col>TGGTTAGAGGCATGGT-4</th><th scope=col>TTATGCTTCTATCCTA-4</th><th scope=col>TTCTCAAGTACACCGC-4</th><th scope=col>TTTCCTCCACCAGGTC-4</th></tr>\n",
       "\t<tr><th></th><th scope=col>&lt;dbl&gt;</th><th scope=col>&lt;dbl&gt;</th><th scope=col>&lt;dbl&gt;</th><th scope=col>&lt;dbl&gt;</th><th scope=col>&lt;dbl&gt;</th><th scope=col>&lt;dbl&gt;</th><th scope=col>&lt;dbl&gt;</th><th scope=col>&lt;dbl&gt;</th><th scope=col>&lt;dbl&gt;</th><th scope=col>&lt;dbl&gt;</th><th scope=col>⋯</th><th scope=col>&lt;dbl&gt;</th><th scope=col>&lt;dbl&gt;</th><th scope=col>&lt;dbl&gt;</th><th scope=col>&lt;dbl&gt;</th><th scope=col>&lt;dbl&gt;</th><th scope=col>&lt;dbl&gt;</th><th scope=col>&lt;dbl&gt;</th><th scope=col>&lt;dbl&gt;</th><th scope=col>&lt;dbl&gt;</th><th scope=col>&lt;dbl&gt;</th></tr>\n",
       "</thead>\n",
       "<tbody>\n",
       "\t<tr><th scope=row>Sox17</th><td>-0.389809577</td><td>-0.336413151</td><td>-0.31468884</td><td>-0.28843408</td><td>-0.3568345251</td><td>-0.3350830110</td><td>-0.35596199</td><td>-0.343434941</td><td>-0.299520367</td><td>-0.3310835445</td><td>⋯</td><td>-0.33548897</td><td>-0.30087460</td><td>-0.4381966</td><td>-0.4230042</td><td>-0.29413115</td><td>-0.4308949</td><td>-0.4007203</td><td>-0.4230684</td><td>-0.4458257</td><td>-0.26901129</td></tr>\n",
       "\t<tr><th scope=row>Npbwr1</th><td>-0.002233966</td><td>-0.005402154</td><td>-0.01435629</td><td>-0.01477763</td><td> 0.0007693487</td><td> 0.0043119376</td><td>-0.07607157</td><td>-0.005192167</td><td>-0.006065610</td><td>-0.0001527243</td><td>⋯</td><td>-0.07797839</td><td>-0.04663312</td><td>-0.1395931</td><td>-0.1341855</td><td>-0.02106932</td><td>-0.1373699</td><td>-0.1116083</td><td>-0.1319541</td><td>-0.1541303</td><td>-0.02523886</td></tr>\n",
       "\t<tr><th scope=row>3110035E14Rik</th><td> 0.147990633</td><td>-0.039682333</td><td>-0.16910414</td><td>-0.25351425</td><td> 0.0664306105</td><td> 0.0234412165</td><td>-0.46825976</td><td>-0.016433373</td><td>-0.158788388</td><td>-0.0198824453</td><td>⋯</td><td>-0.54500794</td><td> 5.01260323</td><td>-0.6527782</td><td>-0.6624969</td><td>-0.27938925</td><td>-0.6600509</td><td> 3.2258918</td><td>-0.6468493</td><td>-0.7297414</td><td>-0.38622613</td></tr>\n",
       "\t<tr><th scope=row>Prex2</th><td> 0.029215329</td><td>-0.124821274</td><td>-0.25490867</td><td>-0.32065233</td><td>-0.0222868227</td><td>-0.0425255842</td><td>-0.70019031</td><td>-0.106382461</td><td>-0.217831183</td><td>-0.0912441953</td><td>⋯</td><td>-0.76533749</td><td>-0.57143619</td><td>-1.0645696</td><td>-1.0529064</td><td>-0.36252810</td><td>-1.0622692</td><td>-0.9069873</td><td>-1.0331287</td><td>-1.1744023</td><td>-0.45855680</td></tr>\n",
       "\t<tr><th scope=row>A830018L16Rik</th><td> 0.017593924</td><td> 0.014270840</td><td>-0.03370455</td><td>-0.02842609</td><td> 0.0457099725</td><td> 0.0737541271</td><td>-0.42141487</td><td> 0.013450952</td><td> 0.021253806</td><td> 0.0477922762</td><td>⋯</td><td>-0.42689862</td><td>-0.22590283</td><td>-0.8323450</td><td>-0.7949160</td><td> 5.48578428</td><td>-0.8166417</td><td>10.0000000</td><td>10.0000000</td><td>-0.9230463</td><td>-0.08625575</td></tr>\n",
       "\t<tr><th scope=row>Msc</th><td>-0.010550252</td><td>-0.011088526</td><td>-0.01930060</td><td>-0.01838021</td><td>-0.0057106497</td><td>-0.0008899801</td><td>-0.08579361</td><td>-0.011233220</td><td>-0.009869655</td><td>-0.0053385027</td><td>⋯</td><td>-0.08672169</td><td>-0.05224277</td><td>10.0000000</td><td>-0.1498658</td><td>-0.02523610</td><td>-0.1535951</td><td>-0.1251686</td><td>-0.1475422</td><td>-0.1718458</td><td>-0.02828304</td></tr>\n",
       "</tbody>\n",
       "</table>\n"
      ],
      "text/latex": [
       "A data.frame: 6 × 1234\n",
       "\\begin{tabular}{r|lllllllllllllllllllll}\n",
       "  & AAACCTGGTCCTCCAT-4 & AAACGGGAGCTCCCAG-4 & AAAGCAACAAGTTGTC-4 & AAAGCAAGTCACACGC-4 & AAAGCAAGTGTAATGA-4 & AAAGCAATCCTCAACC-4 & AAAGTAGTCGCCCTTA-4 & AAATGCCGTATATCCG-4 & AACCATGAGGTGATTA-4 & AACCATGGTCTGGAGA-4 & ⋯ & GGCAATTGTTCCGTCT-4 & GGGTTGCGTTAGAACA-4 & GGTGCGTAGCTAGGCA-4 & GTACGTAAGCAAATCA-4 & GTAGTCATCAACACCA-4 & GTATCTTTCGTGGACC-4 & TGGTTAGAGGCATGGT-4 & TTATGCTTCTATCCTA-4 & TTCTCAAGTACACCGC-4 & TTTCCTCCACCAGGTC-4\\\\\n",
       "  & <dbl> & <dbl> & <dbl> & <dbl> & <dbl> & <dbl> & <dbl> & <dbl> & <dbl> & <dbl> & ⋯ & <dbl> & <dbl> & <dbl> & <dbl> & <dbl> & <dbl> & <dbl> & <dbl> & <dbl> & <dbl>\\\\\n",
       "\\hline\n",
       "\tSox17 & -0.389809577 & -0.336413151 & -0.31468884 & -0.28843408 & -0.3568345251 & -0.3350830110 & -0.35596199 & -0.343434941 & -0.299520367 & -0.3310835445 & ⋯ & -0.33548897 & -0.30087460 & -0.4381966 & -0.4230042 & -0.29413115 & -0.4308949 & -0.4007203 & -0.4230684 & -0.4458257 & -0.26901129\\\\\n",
       "\tNpbwr1 & -0.002233966 & -0.005402154 & -0.01435629 & -0.01477763 &  0.0007693487 &  0.0043119376 & -0.07607157 & -0.005192167 & -0.006065610 & -0.0001527243 & ⋯ & -0.07797839 & -0.04663312 & -0.1395931 & -0.1341855 & -0.02106932 & -0.1373699 & -0.1116083 & -0.1319541 & -0.1541303 & -0.02523886\\\\\n",
       "\t3110035E14Rik &  0.147990633 & -0.039682333 & -0.16910414 & -0.25351425 &  0.0664306105 &  0.0234412165 & -0.46825976 & -0.016433373 & -0.158788388 & -0.0198824453 & ⋯ & -0.54500794 &  5.01260323 & -0.6527782 & -0.6624969 & -0.27938925 & -0.6600509 &  3.2258918 & -0.6468493 & -0.7297414 & -0.38622613\\\\\n",
       "\tPrex2 &  0.029215329 & -0.124821274 & -0.25490867 & -0.32065233 & -0.0222868227 & -0.0425255842 & -0.70019031 & -0.106382461 & -0.217831183 & -0.0912441953 & ⋯ & -0.76533749 & -0.57143619 & -1.0645696 & -1.0529064 & -0.36252810 & -1.0622692 & -0.9069873 & -1.0331287 & -1.1744023 & -0.45855680\\\\\n",
       "\tA830018L16Rik &  0.017593924 &  0.014270840 & -0.03370455 & -0.02842609 &  0.0457099725 &  0.0737541271 & -0.42141487 &  0.013450952 &  0.021253806 &  0.0477922762 & ⋯ & -0.42689862 & -0.22590283 & -0.8323450 & -0.7949160 &  5.48578428 & -0.8166417 & 10.0000000 & 10.0000000 & -0.9230463 & -0.08625575\\\\\n",
       "\tMsc & -0.010550252 & -0.011088526 & -0.01930060 & -0.01838021 & -0.0057106497 & -0.0008899801 & -0.08579361 & -0.011233220 & -0.009869655 & -0.0053385027 & ⋯ & -0.08672169 & -0.05224277 & 10.0000000 & -0.1498658 & -0.02523610 & -0.1535951 & -0.1251686 & -0.1475422 & -0.1718458 & -0.02828304\\\\\n",
       "\\end{tabular}\n"
      ],
      "text/markdown": [
       "\n",
       "A data.frame: 6 × 1234\n",
       "\n",
       "| <!--/--> | AAACCTGGTCCTCCAT-4 &lt;dbl&gt; | AAACGGGAGCTCCCAG-4 &lt;dbl&gt; | AAAGCAACAAGTTGTC-4 &lt;dbl&gt; | AAAGCAAGTCACACGC-4 &lt;dbl&gt; | AAAGCAAGTGTAATGA-4 &lt;dbl&gt; | AAAGCAATCCTCAACC-4 &lt;dbl&gt; | AAAGTAGTCGCCCTTA-4 &lt;dbl&gt; | AAATGCCGTATATCCG-4 &lt;dbl&gt; | AACCATGAGGTGATTA-4 &lt;dbl&gt; | AACCATGGTCTGGAGA-4 &lt;dbl&gt; | ⋯ ⋯ | GGCAATTGTTCCGTCT-4 &lt;dbl&gt; | GGGTTGCGTTAGAACA-4 &lt;dbl&gt; | GGTGCGTAGCTAGGCA-4 &lt;dbl&gt; | GTACGTAAGCAAATCA-4 &lt;dbl&gt; | GTAGTCATCAACACCA-4 &lt;dbl&gt; | GTATCTTTCGTGGACC-4 &lt;dbl&gt; | TGGTTAGAGGCATGGT-4 &lt;dbl&gt; | TTATGCTTCTATCCTA-4 &lt;dbl&gt; | TTCTCAAGTACACCGC-4 &lt;dbl&gt; | TTTCCTCCACCAGGTC-4 &lt;dbl&gt; |\n",
       "|---|---|---|---|---|---|---|---|---|---|---|---|---|---|---|---|---|---|---|---|---|---|\n",
       "| Sox17 | -0.389809577 | -0.336413151 | -0.31468884 | -0.28843408 | -0.3568345251 | -0.3350830110 | -0.35596199 | -0.343434941 | -0.299520367 | -0.3310835445 | ⋯ | -0.33548897 | -0.30087460 | -0.4381966 | -0.4230042 | -0.29413115 | -0.4308949 | -0.4007203 | -0.4230684 | -0.4458257 | -0.26901129 |\n",
       "| Npbwr1 | -0.002233966 | -0.005402154 | -0.01435629 | -0.01477763 |  0.0007693487 |  0.0043119376 | -0.07607157 | -0.005192167 | -0.006065610 | -0.0001527243 | ⋯ | -0.07797839 | -0.04663312 | -0.1395931 | -0.1341855 | -0.02106932 | -0.1373699 | -0.1116083 | -0.1319541 | -0.1541303 | -0.02523886 |\n",
       "| 3110035E14Rik |  0.147990633 | -0.039682333 | -0.16910414 | -0.25351425 |  0.0664306105 |  0.0234412165 | -0.46825976 | -0.016433373 | -0.158788388 | -0.0198824453 | ⋯ | -0.54500794 |  5.01260323 | -0.6527782 | -0.6624969 | -0.27938925 | -0.6600509 |  3.2258918 | -0.6468493 | -0.7297414 | -0.38622613 |\n",
       "| Prex2 |  0.029215329 | -0.124821274 | -0.25490867 | -0.32065233 | -0.0222868227 | -0.0425255842 | -0.70019031 | -0.106382461 | -0.217831183 | -0.0912441953 | ⋯ | -0.76533749 | -0.57143619 | -1.0645696 | -1.0529064 | -0.36252810 | -1.0622692 | -0.9069873 | -1.0331287 | -1.1744023 | -0.45855680 |\n",
       "| A830018L16Rik |  0.017593924 |  0.014270840 | -0.03370455 | -0.02842609 |  0.0457099725 |  0.0737541271 | -0.42141487 |  0.013450952 |  0.021253806 |  0.0477922762 | ⋯ | -0.42689862 | -0.22590283 | -0.8323450 | -0.7949160 |  5.48578428 | -0.8166417 | 10.0000000 | 10.0000000 | -0.9230463 | -0.08625575 |\n",
       "| Msc | -0.010550252 | -0.011088526 | -0.01930060 | -0.01838021 | -0.0057106497 | -0.0008899801 | -0.08579361 | -0.011233220 | -0.009869655 | -0.0053385027 | ⋯ | -0.08672169 | -0.05224277 | 10.0000000 | -0.1498658 | -0.02523610 | -0.1535951 | -0.1251686 | -0.1475422 | -0.1718458 | -0.02828304 |\n",
       "\n"
      ],
      "text/plain": [
       "              AAACCTGGTCCTCCAT-4 AAACGGGAGCTCCCAG-4 AAAGCAACAAGTTGTC-4 AAAGCAAGTCACACGC-4 AAAGCAAGTGTAATGA-4 AAAGCAATCCTCAACC-4\n",
       "Sox17         -0.389809577       -0.336413151       -0.31468884        -0.28843408        -0.3568345251      -0.3350830110     \n",
       "Npbwr1        -0.002233966       -0.005402154       -0.01435629        -0.01477763         0.0007693487       0.0043119376     \n",
       "3110035E14Rik  0.147990633       -0.039682333       -0.16910414        -0.25351425         0.0664306105       0.0234412165     \n",
       "Prex2          0.029215329       -0.124821274       -0.25490867        -0.32065233        -0.0222868227      -0.0425255842     \n",
       "A830018L16Rik  0.017593924        0.014270840       -0.03370455        -0.02842609         0.0457099725       0.0737541271     \n",
       "Msc           -0.010550252       -0.011088526       -0.01930060        -0.01838021        -0.0057106497      -0.0008899801     \n",
       "              AAAGTAGTCGCCCTTA-4 AAATGCCGTATATCCG-4 AACCATGAGGTGATTA-4 AACCATGGTCTGGAGA-4 <U+22EF>   GGCAATTGTTCCGTCT-4\n",
       "Sox17         -0.35596199        -0.343434941       -0.299520367       -0.3310835445      <U+22EF> -0.33548897       \n",
       "Npbwr1        -0.07607157        -0.005192167       -0.006065610       -0.0001527243      <U+22EF> -0.07797839       \n",
       "3110035E14Rik -0.46825976        -0.016433373       -0.158788388       -0.0198824453      <U+22EF> -0.54500794       \n",
       "Prex2         -0.70019031        -0.106382461       -0.217831183       -0.0912441953      <U+22EF> -0.76533749       \n",
       "A830018L16Rik -0.42141487         0.013450952        0.021253806        0.0477922762      <U+22EF> -0.42689862       \n",
       "Msc           -0.08579361        -0.011233220       -0.009869655       -0.0053385027      <U+22EF> -0.08672169       \n",
       "              GGGTTGCGTTAGAACA-4 GGTGCGTAGCTAGGCA-4 GTACGTAAGCAAATCA-4 GTAGTCATCAACACCA-4 GTATCTTTCGTGGACC-4 TGGTTAGAGGCATGGT-4\n",
       "Sox17         -0.30087460        -0.4381966         -0.4230042         -0.29413115        -0.4308949         -0.4007203        \n",
       "Npbwr1        -0.04663312        -0.1395931         -0.1341855         -0.02106932        -0.1373699         -0.1116083        \n",
       "3110035E14Rik  5.01260323        -0.6527782         -0.6624969         -0.27938925        -0.6600509          3.2258918        \n",
       "Prex2         -0.57143619        -1.0645696         -1.0529064         -0.36252810        -1.0622692         -0.9069873        \n",
       "A830018L16Rik -0.22590283        -0.8323450         -0.7949160          5.48578428        -0.8166417         10.0000000        \n",
       "Msc           -0.05224277        10.0000000         -0.1498658         -0.02523610        -0.1535951         -0.1251686        \n",
       "              TTATGCTTCTATCCTA-4 TTCTCAAGTACACCGC-4 TTTCCTCCACCAGGTC-4\n",
       "Sox17         -0.4230684         -0.4458257         -0.26901129       \n",
       "Npbwr1        -0.1319541         -0.1541303         -0.02523886       \n",
       "3110035E14Rik -0.6468493         -0.7297414         -0.38622613       \n",
       "Prex2         -1.0331287         -1.1744023         -0.45855680       \n",
       "A830018L16Rik 10.0000000         -0.9230463         -0.08625575       \n",
       "Msc           -0.1475422         -0.1718458         -0.02828304       "
      ]
     },
     "metadata": {},
     "output_type": "display_data"
    }
   ],
   "source": [
    "head(as.data.frame(seurat_obj[[\"RNA\"]]@scale.data))"
   ]
  },
  {
   "cell_type": "code",
   "execution_count": 16,
   "metadata": {},
   "outputs": [
    {
     "data": {
      "text/plain": [
       "Class: H5Group\n",
       "Filename: /gpfs/data/nneretti/data/datasets/scRNA_seq/example1_out.loom\n",
       "Group: /scaled\n",
       "Listing:\n",
       "     name    obj_type dataset.dims dataset.type_class\n",
       "   matrix H5I_DATASET  1234 x 2000          H5T_FLOAT\n",
       " vargenes H5I_DATASET         2000         H5T_STRING"
      ]
     },
     "metadata": {},
     "output_type": "display_data"
    }
   ],
   "source": [
    "scaled.grp[[\"matrix\"]] <- (as.matrix(seurat_obj[[\"RNA\"]]@scale.data))\n",
    "scaled.grp[[\"vargenes\"]] <- row.names(seurat_obj[[\"RNA\"]]@scale.data)\n",
    "scaled.grp"
   ]
  },
  {
   "cell_type": "markdown",
   "metadata": {},
   "source": [
    "# Finished\n",
    "We have now created the HDF5 File. All that's left is to close the file connection, to free it up to be read by other processes."
   ]
  },
  {
   "cell_type": "code",
   "execution_count": 17,
   "metadata": {},
   "outputs": [],
   "source": [
    "file.h5$close_all()"
   ]
  },
  {
   "cell_type": "markdown",
   "metadata": {},
   "source": [
    "## Miscellaneous Notes ##\n",
    "* We are generally following the [loom hdf5 specification](http://linnarssonlab.org/loompy/format/) for potentially better interoperability and use of convenience functions such as those found in \n",
    "[loompy](http://loompy.org/), [SCopeLoomR](https://github.com/aertslab/SCopeLoomR), and [SCENIC](https://pyscenic.readthedocs.io/en/latest/). \n",
    "* The loom specification is flexible and does not specify whether to use columns as genes or as cells.  In the official tutorial, they use genes as rows and cells as columns. However, hdf5 is stored in row-major, which should make row access faster than column access. In machine learning applications, we generally want to take batches as slices of a few rows at a time, so we will be using cells as rows and genes as columns.\n",
    "    *  In addition, the way we created datasets in hdf5r conveniently automatically chooses datatypes and chunk sizes, but these can be tweaked to increase performance, as described in the [tutorial](https://cran.r-project.org/web/packages/hdf5r/vignettes/hdf5r.html), [the package documentation](https://cran.r-project.org/web/packages/hdf5r/hdf5r.pdf), and [StackOverflow](https://stackoverflow.com/questions/48385256/optimal-hdf5-dataset-chunk-shape-for-reading-rows)."
   ]
  },
  {
   "cell_type": "code",
   "execution_count": null,
   "metadata": {},
   "outputs": [],
   "source": []
  }
 ],
 "metadata": {
  "kernelspec": {
   "display_name": "R",
   "language": "R",
   "name": "ir"
  },
  "language_info": {
   "codemirror_mode": "r",
   "file_extension": ".r",
   "mimetype": "text/x-r-source",
   "name": "R",
   "pygments_lexer": "r",
   "version": "4.0.3"
  }
 },
 "nbformat": 4,
 "nbformat_minor": 4
}
